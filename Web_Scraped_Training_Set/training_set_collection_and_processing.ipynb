{
 "cells": [
  {
   "cell_type": "markdown",
   "id": "6b1983e1",
   "metadata": {},
   "source": [
    "**Code Inspired from [Fabian Bosler](https://towardsdatascience.com/image-scraping-with-python-a96feda8af2d)**"
   ]
  },
  {
   "cell_type": "code",
   "execution_count": 29,
   "id": "b7b14dcc",
   "metadata": {},
   "outputs": [],
   "source": [
    "from selenium import webdriver\n",
    "from selenium.webdriver.common.by import By\n",
    "from selenium.webdriver.chrome.service import Service\n",
    "from webdriver_manager.chrome import ChromeDriverManager\n",
    "from PIL import Image\n",
    "import io\n",
    "import os\n",
    "import requests\n",
    "import time\n",
    "import Augmentor\n",
    "\n",
    "SUBJECT = 'airchair'\n",
    "GSEARCH_URL = '''https://www.google.com/search?q=air+chair+breakdance&tbm=isch&ved=2ahUKEwilvrvUmqf6A\n",
    "               hU0YzUKHQeMCWQQ2-cCegQIABAA&oq=air+chair+breakdance&gs_lcp=CgNpbWcQAzIFCAAQgAQ6BAgjE\n",
    "               CdQtQRYwgZgzwloAHAAeACAAbQBiAGhA5IBAzEuMpgBAKABAaoBC2d3cy13aXotaW1nwAEB&sclient=img&\n",
    "               ei=_7QrY-XCG7TG1QGHmKagBg&bih=616&biw=1263&hl=en'''\n",
    "IMG_PATH = os.path.join('images', 'downloadedimages', SUBJECT)\n",
    "CLASS_NAME0 = 'Q4LuWd'\n",
    "CLASS_NAME1 = 'KAlRDb'\n",
    "LABELING_PATH = os.path.join('labelimg')"
   ]
  },
  {
   "cell_type": "code",
   "execution_count": 30,
   "id": "d87be558",
   "metadata": {},
   "outputs": [],
   "source": [
    "def get_google_images(search_url, CN_0, CN_1, max_images, lag):\n",
    "    '''scrapes google_images and stores source image urls in a set\n",
    "        Args:\n",
    "            search_url (str): google image search url\n",
    "            max_images (int): total images to be collected (must be <= 30)\n",
    "            CN_0 (str): class name of image thumbnails\n",
    "            CN_1 (str): class name of html block containing 'src' tag\n",
    "            \n",
    "        Returns:\n",
    "            image_url_set (set): set of all image urls (str)\n",
    "    '''\n",
    "    img_url_set = set()\n",
    "    assert max_images <= 30, 'Too many images (only <=30)!'\n",
    "    \n",
    "    # Initializing selenium webdriver\n",
    "    s = Service(ChromeDriverManager().install())\n",
    "    wd = webdriver.Chrome(service=s)\n",
    "    wd.get(search_url)\n",
    "    \n",
    "    # Finding all images using thumbnail element (CONSTANT class)\n",
    "    img_elements = wd.find_elements(By.CLASS_NAME, CN_0)\n",
    "    \n",
    "    # Scrolling to the bottom of the page to load all images before parsing\n",
    "    wd.execute_script(\"window.scrollTo(0, document.body.scrollHeight);\")\n",
    "    \n",
    "    # Loop iterations are adjusted based on exceptions (to 'skip' image)\n",
    "    skip = 0\n",
    "    \n",
    "    for img_element in img_elements[len(img_url_set) + skip :max_images]:\n",
    "        try:\n",
    "            # Clicks on each thumbnail image\n",
    "            img_element.click()\n",
    "            \n",
    "            # Waits till full res image loads\n",
    "            time.sleep(lag)\n",
    "            \n",
    "            # Finds src_url\n",
    "            img = wd.find_element(By.CLASS_NAME, CN_1)\n",
    "            src_url = img.get_attribute('src')\n",
    "            \n",
    "            # Checks if src_url is a real website\n",
    "            if 'http' in src_url:\n",
    "                img_url_set.add(src_url)\n",
    "        except:\n",
    "            skip += 1\n",
    "            continue\n",
    "    \n",
    "    # Success rate\n",
    "    print(f'''Images collected: {len(img_url_set)} out of {max_images}, Images Skipped: {skip} out of {max_images}''')\n",
    "    \n",
    "    return img_url_set\n",
    "    "
   ]
  },
  {
   "cell_type": "code",
   "execution_count": 31,
   "id": "7b3c8282",
   "metadata": {},
   "outputs": [],
   "source": [
    "def download_image(dl_path, dl_url, filename):\n",
    "    '''downloads an image from a source url to given filename\n",
    "        Args:\n",
    "            dl_path (str): path to download folder\n",
    "            dl_url (str): image url\n",
    "            filename (str): filename of downloaded image\n",
    "        \n",
    "        Returns:\n",
    "            None\n",
    "    '''\n",
    "    try:\n",
    "        # Requesting image content from src\n",
    "        img_content = requests.get(dl_url).content\n",
    "        img_file = io.BytesIO(img_content)\n",
    "        img = Image.open(img_file)\n",
    "        \n",
    "        file_path = os.path.join(dl_path, filename)\n",
    "\n",
    "        # Downloading image to filepath\n",
    "        with open(file_path, 'wb') as downloader:\n",
    "            img.save(downloader, \"JPEG\")\n",
    "            \n",
    "    except Exception as e:\n",
    "        print('Download Failed:', e)"
   ]
  },
  {
   "cell_type": "code",
   "execution_count": 36,
   "id": "306eb6ca",
   "metadata": {},
   "outputs": [],
   "source": [
    "def image_augmentation(imgs_path, sample_size):\n",
    "    '''downloads an image from a source url to given filename\n",
    "        Args:\n",
    "            imgs_path (str): path to folder with images to be augmented\n",
    "            sample_size (int): desired number of augmented images\n",
    "        \n",
    "        Returns:\n",
    "            None\n",
    "    '''\n",
    "    aug = Augmentor.Pipeline(imgs_path)\n",
    "    \n",
    "    # Horizontal mirror\n",
    "    aug.flip_left_right(probability=0.5)\n",
    "    # Slight rotation\n",
    "    aug.rotate(probability=0.7, max_left_rotation=5, max_right_rotation=5)\n",
    "    # Slight skew\n",
    "    aug.skew_top_bottom(probability=0.3, magnitude=0.1)\n",
    "    # Change in brightness\n",
    "    aug.random_brightness(probability=0.4, min_factor=0.6, max_factor=1.2)\n",
    "    # Change in saturation & contrast\n",
    "    aug.random_color(probability=0.2, min_factor=0.5, max_factor=2)\n",
    "    aug.random_contrast(probability=0.2, min_factor=0.5, max_factor=2)\n",
    "    \n",
    "    aug.sample(sample_size)"
   ]
  },
  {
   "cell_type": "code",
   "execution_count": 34,
   "id": "775bf7af",
   "metadata": {},
   "outputs": [
    {
     "name": "stdout",
     "output_type": "stream",
     "text": [
      "Images collected: 14 out of 15, Images Skipped: 1 out of 15\n",
      "14 downloads successful.\n"
     ]
    }
   ],
   "source": [
    "img_url_set = get_google_images(GSEARCH_URL, CLASS_NAME0, CLASS_NAME1, 15, 3)\n",
    "\n",
    "# To track images\n",
    "i = 0\n",
    "for url in img_url_set:\n",
    "    download_image(IMG_PATH, url, SUBJECT + str(i) + '.jpg')\n",
    "    i += 1\n",
    "\n",
    "print(f'{i} downloads successful.')"
   ]
  },
  {
   "cell_type": "code",
   "execution_count": 37,
   "id": "ce0b2321",
   "metadata": {},
   "outputs": [
    {
     "name": "stdout",
     "output_type": "stream",
     "text": [
      "Initialised with 12 image(s) found.\n",
      "Output directory set to images\\downloadedimages\\airchair\\output."
     ]
    },
    {
     "name": "stderr",
     "output_type": "stream",
     "text": [
      "Processing <PIL.Image.Image image mode=RGB size=1280x720 at 0x26201018E20>: 100%|█| 30/30 [00:00<00:00, 35.42 Samples/s"
     ]
    },
    {
     "name": "stdout",
     "output_type": "stream",
     "text": [
      "Augmentation successful.\n"
     ]
    },
    {
     "name": "stderr",
     "output_type": "stream",
     "text": [
      "\n"
     ]
    }
   ],
   "source": [
    "image_augmentation(IMG_PATH, 30)\n",
    "print('Augmentation successful.')"
   ]
  },
  {
   "cell_type": "code",
   "execution_count": 23,
   "id": "d73ca38b",
   "metadata": {},
   "outputs": [
    {
     "name": "stderr",
     "output_type": "stream",
     "text": [
      "Cloning into 'labelimg'...\n"
     ]
    }
   ],
   "source": [
    "# Installing labelImg software by heartexlabs\n",
    "!mkdir {LABELING_PATH}\n",
    "!git clone https://github.com/heartexlabs/labelImg.git {LABELING_PATH}\n",
    "!cd {LABELING_PATH} && pyrcc5 -o libs/resources.py resources.qrc"
   ]
  },
  {
   "cell_type": "code",
   "execution_count": 38,
   "id": "4beb22ff",
   "metadata": {
    "collapsed": true
   },
   "outputs": [
    {
     "name": "stdout",
     "output_type": "stream",
     "text": [
      "Cancel creation.\n",
      "Image:D:\\HDD Files\\Desktop\\Power Detection\\Web Scraped Training Set\\images\\downloadedimages\\airchair\\output\\airchair_original_airchair1.jpg_b899b443-9fcf-454e-82f1-574764e31c4f.jpg -> Annotation:D:/HDD Files/Desktop/Power Detection/Web Scraped Training Set/images/downloadedimages/airchair/output\\airchair_original_airchair1.jpg_b899b443-9fcf-454e-82f1-574764e31c4f.xml\n",
      "Image:D:\\HDD Files\\Desktop\\Power Detection\\Web Scraped Training Set\\images\\downloadedimages\\airchair\\output\\airchair_original_airchair1.jpg_eefe184e-1809-4962-aa24-9017f00dc637.jpg -> Annotation:D:/HDD Files/Desktop/Power Detection/Web Scraped Training Set/images/downloadedimages/airchair/output\\airchair_original_airchair1.jpg_eefe184e-1809-4962-aa24-9017f00dc637.xml\n",
      "Image:D:\\HDD Files\\Desktop\\Power Detection\\Web Scraped Training Set\\images\\downloadedimages\\airchair\\output\\airchair_original_airchair1.jpg_f1bffa3c-c0cd-407a-a4ad-a74caa69e9c6.jpg -> Annotation:D:/HDD Files/Desktop/Power Detection/Web Scraped Training Set/images/downloadedimages/airchair/output\\airchair_original_airchair1.jpg_f1bffa3c-c0cd-407a-a4ad-a74caa69e9c6.xml\n",
      "Image:D:\\HDD Files\\Desktop\\Power Detection\\Web Scraped Training Set\\images\\downloadedimages\\airchair\\output\\airchair_original_airchair2.jpg_5c906760-fd95-4c11-96c1-e5da5b1c8a95.jpg -> Annotation:D:/HDD Files/Desktop/Power Detection/Web Scraped Training Set/images/downloadedimages/airchair/output\\airchair_original_airchair2.jpg_5c906760-fd95-4c11-96c1-e5da5b1c8a95.xml\n",
      "Image:D:\\HDD Files\\Desktop\\Power Detection\\Web Scraped Training Set\\images\\downloadedimages\\airchair\\output\\airchair_original_airchair2.jpg_a8edf2d4-0e2a-45bc-afa9-4ba8b5842f2f.jpg -> Annotation:D:/HDD Files/Desktop/Power Detection/Web Scraped Training Set/images/downloadedimages/airchair/output\\airchair_original_airchair2.jpg_a8edf2d4-0e2a-45bc-afa9-4ba8b5842f2f.xml\n",
      "Image:D:\\HDD Files\\Desktop\\Power Detection\\Web Scraped Training Set\\images\\downloadedimages\\airchair\\output\\airchair_original_airchair2.jpg_daca86b5-2cd1-46a0-a1a7-8586efaa11cd.jpg -> Annotation:D:/HDD Files/Desktop/Power Detection/Web Scraped Training Set/images/downloadedimages/airchair/output\\airchair_original_airchair2.jpg_daca86b5-2cd1-46a0-a1a7-8586efaa11cd.xml\n",
      "Cancel creation.\n",
      "Cancel creation.\n",
      "Image:D:\\HDD Files\\Desktop\\Power Detection\\Web Scraped Training Set\\images\\downloadedimages\\airchair\\output\\airchair_original_airchair3.jpg_04c52792-5396-4625-b520-b65544c4f4cb.jpg -> Annotation:D:/HDD Files/Desktop/Power Detection/Web Scraped Training Set/images/downloadedimages/airchair/output\\airchair_original_airchair3.jpg_04c52792-5396-4625-b520-b65544c4f4cb.xml\n",
      "Cancel creation.\n",
      "Image:D:\\HDD Files\\Desktop\\Power Detection\\Web Scraped Training Set\\images\\downloadedimages\\airchair\\output\\airchair_original_airchair3.jpg_e6bf0758-8eb1-4184-a6a3-8725a0d70bd4.jpg -> Annotation:D:/HDD Files/Desktop/Power Detection/Web Scraped Training Set/images/downloadedimages/airchair/output\\airchair_original_airchair3.jpg_e6bf0758-8eb1-4184-a6a3-8725a0d70bd4.xml\n",
      "Image:D:\\HDD Files\\Desktop\\Power Detection\\Web Scraped Training Set\\images\\downloadedimages\\airchair\\output\\airchair_original_airchair4.jpg_12491c03-e99d-4d60-b0cd-f8aeae7c33b0.jpg -> Annotation:D:/HDD Files/Desktop/Power Detection/Web Scraped Training Set/images/downloadedimages/airchair/output\\airchair_original_airchair4.jpg_12491c03-e99d-4d60-b0cd-f8aeae7c33b0.xml\n",
      "Image:D:\\HDD Files\\Desktop\\Power Detection\\Web Scraped Training Set\\images\\downloadedimages\\airchair\\output\\airchair_original_airchair6.jpg_37f31622-2640-4a6b-86f8-b4dd50b0c2ba.jpg -> Annotation:D:/HDD Files/Desktop/Power Detection/Web Scraped Training Set/images/downloadedimages/airchair/output\\airchair_original_airchair6.jpg_37f31622-2640-4a6b-86f8-b4dd50b0c2ba.xml\n",
      "Image:D:\\HDD Files\\Desktop\\Power Detection\\Web Scraped Training Set\\images\\downloadedimages\\airchair\\output\\airchair_original_airchair6.jpg_d4084bff-7034-469d-9e27-68722a4a4b60.jpg -> Annotation:D:/HDD Files/Desktop/Power Detection/Web Scraped Training Set/images/downloadedimages/airchair/output\\airchair_original_airchair6.jpg_d4084bff-7034-469d-9e27-68722a4a4b60.xml\n",
      "Image:D:\\HDD Files\\Desktop\\Power Detection\\Web Scraped Training Set\\images\\downloadedimages\\airchair\\output\\airchair_original_airchair6.jpg_d8112fb8-6110-4539-b2f5-817d748ca014.jpg -> Annotation:D:/HDD Files/Desktop/Power Detection/Web Scraped Training Set/images/downloadedimages/airchair/output\\airchair_original_airchair6.jpg_d8112fb8-6110-4539-b2f5-817d748ca014.xml\n",
      "Cancel creation.\n",
      "Image:D:\\HDD Files\\Desktop\\Power Detection\\Web Scraped Training Set\\images\\downloadedimages\\airchair\\output\\airchair_original_airchair6.jpg_e14b3499-e821-4620-a1f1-78cdf644ba21.jpg -> Annotation:D:/HDD Files/Desktop/Power Detection/Web Scraped Training Set/images/downloadedimages/airchair/output\\airchair_original_airchair6.jpg_e14b3499-e821-4620-a1f1-78cdf644ba21.xml\n",
      "Image:D:\\HDD Files\\Desktop\\Power Detection\\Web Scraped Training Set\\images\\downloadedimages\\airchair\\output\\airchair_original_airchair7.jpg_d6d21ab4-a805-4f4b-8c11-26f71ae64c5f.jpg -> Annotation:D:/HDD Files/Desktop/Power Detection/Web Scraped Training Set/images/downloadedimages/airchair/output\\airchair_original_airchair7.jpg_d6d21ab4-a805-4f4b-8c11-26f71ae64c5f.xml\n",
      "Image:D:\\HDD Files\\Desktop\\Power Detection\\Web Scraped Training Set\\images\\downloadedimages\\airchair\\output\\airchair_original_airchair7.jpg_d9c49654-b2cb-42fe-87f5-f24f7312f2bd.jpg -> Annotation:D:/HDD Files/Desktop/Power Detection/Web Scraped Training Set/images/downloadedimages/airchair/output\\airchair_original_airchair7.jpg_d9c49654-b2cb-42fe-87f5-f24f7312f2bd.xml\n",
      "Image:D:\\HDD Files\\Desktop\\Power Detection\\Web Scraped Training Set\\images\\downloadedimages\\airchair\\output\\airchair_original_airchair7.jpg_e067a18f-8c8d-43f7-881b-4f8477487c0b.jpg -> Annotation:D:/HDD Files/Desktop/Power Detection/Web Scraped Training Set/images/downloadedimages/airchair/output\\airchair_original_airchair7.jpg_e067a18f-8c8d-43f7-881b-4f8477487c0b.xml\n",
      "Image:D:\\HDD Files\\Desktop\\Power Detection\\Web Scraped Training Set\\images\\downloadedimages\\airchair\\output\\airchair_original_airchair7.jpg_f4e5cd46-fa9a-4e99-8a87-6415b0f53a68.jpg -> Annotation:D:/HDD Files/Desktop/Power Detection/Web Scraped Training Set/images/downloadedimages/airchair/output\\airchair_original_airchair7.jpg_f4e5cd46-fa9a-4e99-8a87-6415b0f53a68.xml\n",
      "Image:D:\\HDD Files\\Desktop\\Power Detection\\Web Scraped Training Set\\images\\downloadedimages\\airchair\\output\\airchair_original_airchair9.jpg_e1a0ee68-9f0f-4f69-83f5-3734be4bd4e1.jpg -> Annotation:D:/HDD Files/Desktop/Power Detection/Web Scraped Training Set/images/downloadedimages/airchair/output\\airchair_original_airchair9.jpg_e1a0ee68-9f0f-4f69-83f5-3734be4bd4e1.xml\n",
      "Image:D:\\HDD Files\\Desktop\\Power Detection\\Web Scraped Training Set\\images\\downloadedimages\\airchair\\output\\airchair_original_airchair10.jpg_65ab5e8c-b690-4a19-afc2-82194b35af20.jpg -> Annotation:D:/HDD Files/Desktop/Power Detection/Web Scraped Training Set/images/downloadedimages/airchair/output\\airchair_original_airchair10.jpg_65ab5e8c-b690-4a19-afc2-82194b35af20.xml\n",
      "Image:D:\\HDD Files\\Desktop\\Power Detection\\Web Scraped Training Set\\images\\downloadedimages\\airchair\\output\\airchair_original_airchair10.jpg_78e8cbb1-8bc2-4b3e-939f-9defab6e9854.jpg -> Annotation:D:/HDD Files/Desktop/Power Detection/Web Scraped Training Set/images/downloadedimages/airchair/output\\airchair_original_airchair10.jpg_78e8cbb1-8bc2-4b3e-939f-9defab6e9854.xml\n",
      "Image:D:\\HDD Files\\Desktop\\Power Detection\\Web Scraped Training Set\\images\\downloadedimages\\airchair\\output\\airchair_original_airchair10.jpg_e7cd169f-304a-42cf-ae0e-6698e74b7dad.jpg -> Annotation:D:/HDD Files/Desktop/Power Detection/Web Scraped Training Set/images/downloadedimages/airchair/output\\airchair_original_airchair10.jpg_e7cd169f-304a-42cf-ae0e-6698e74b7dad.xml\n",
      "Image:D:\\HDD Files\\Desktop\\Power Detection\\Web Scraped Training Set\\images\\downloadedimages\\airchair\\output\\airchair_original_airchair13.jpg_70cf80a8-f89a-4576-8456-d0c0c2716723.jpg -> Annotation:D:/HDD Files/Desktop/Power Detection/Web Scraped Training Set/images/downloadedimages/airchair/output\\airchair_original_airchair13.jpg_70cf80a8-f89a-4576-8456-d0c0c2716723.xml\n",
      "Image:D:\\HDD Files\\Desktop\\Power Detection\\Web Scraped Training Set\\images\\downloadedimages\\airchair\\output\\airchair_original_airchair13.jpg_26133c73-ae58-43e7-81c6-398848f598f0.jpg -> Annotation:D:/HDD Files/Desktop/Power Detection/Web Scraped Training Set/images/downloadedimages/airchair/output\\airchair_original_airchair13.jpg_26133c73-ae58-43e7-81c6-398848f598f0.xml\n",
      "Image:D:\\HDD Files\\Desktop\\Power Detection\\Web Scraped Training Set\\images\\downloadedimages\\airchair\\output\\airchair_original_airchair13.jpg_df298d3c-52b1-49d4-bb2e-3018f0ca2085.jpg -> Annotation:D:/HDD Files/Desktop/Power Detection/Web Scraped Training Set/images/downloadedimages/airchair/output\\airchair_original_airchair13.jpg_df298d3c-52b1-49d4-bb2e-3018f0ca2085.xml\n",
      "Image:D:\\HDD Files\\Desktop\\Power Detection\\Web Scraped Training Set\\images\\downloadedimages\\airchair\\output\\airchair_original_airchair13.jpg_f36e5faf-2161-4940-8e4e-601f3b9a84ac.jpg -> Annotation:D:/HDD Files/Desktop/Power Detection/Web Scraped Training Set/images/downloadedimages/airchair/output\\airchair_original_airchair13.jpg_f36e5faf-2161-4940-8e4e-601f3b9a84ac.xml\n"
     ]
    }
   ],
   "source": [
    "# Launching labelImg\n",
    "!cd {LABELING_PATH} && python labelImg.py"
   ]
  }
 ],
 "metadata": {
  "kernelspec": {
   "display_name": "Python 3 (ipykernel)",
   "language": "python",
   "name": "python3"
  },
  "language_info": {
   "codemirror_mode": {
    "name": "ipython",
    "version": 3
   },
   "file_extension": ".py",
   "mimetype": "text/x-python",
   "name": "python",
   "nbconvert_exporter": "python",
   "pygments_lexer": "ipython3",
   "version": "3.9.12"
  }
 },
 "nbformat": 4,
 "nbformat_minor": 5
}
